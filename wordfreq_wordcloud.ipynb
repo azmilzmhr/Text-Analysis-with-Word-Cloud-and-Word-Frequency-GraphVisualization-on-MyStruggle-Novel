{
  "nbformat": 4,
  "nbformat_minor": 0,
  "metadata": {
    "kernelspec": {
      "display_name": "Python 3",
      "language": "python",
      "name": "python3"
    },
    "language_info": {
      "codemirror_mode": {
        "name": "ipython",
        "version": 3
      },
      "file_extension": ".py",
      "mimetype": "text/x-python",
      "name": "python",
      "nbconvert_exporter": "python",
      "pygments_lexer": "ipython3",
      "version": "3.7.6"
    },
    "colab": {
      "provenance": [],
      "include_colab_link": true
    }
  },
  "cells": [
    {
      "cell_type": "markdown",
      "metadata": {
        "id": "view-in-github",
        "colab_type": "text"
      },
      "source": [
        "<a href=\"https://colab.research.google.com/github/azmilzmhr/Wordfreq_wordcloud/blob/main/wordfreq_wordcloud.ipynb\" target=\"_parent\"><img src=\"https://colab.research.google.com/assets/colab-badge.svg\" alt=\"Open In Colab\"/></a>"
      ]
    },
    {
      "cell_type": "code",
      "metadata": {
        "id": "LDVsvWf17R2y"
      },
      "source": [
        "#import modul pandas utk membaca dataframe dan nltk\n",
        "import pandas as pd\n",
        "#nltk untuk data cleansing\n",
        "from nltk import *\n",
        "from nltk.corpus import stopwords\n",
        "\n",
        "#modul visualisasi wordcloud dlm bentuk image\n",
        "from PIL import Image\n",
        "#modul menghitung kemunculan kata\n",
        "from collections import Counter\n",
        "#modul membuat wordcloud\n",
        "from wordcloud import WordCloud\n",
        "\n",
        "#modul utk membuat grafik kata terbanyak\n",
        "import seaborn as sns\n",
        "import matplotlib.pyplot as plt"
      ],
      "execution_count": null,
      "outputs": []
    },
    {
      "cell_type": "code",
      "metadata": {
        "id": "4QkWBfBk7R20"
      },
      "source": [
        "#buka file\n",
        "df = open('D:/data/my_struggle.txt', 'r', encoding=\"utf8\").read()"
      ],
      "execution_count": null,
      "outputs": []
    },
    {
      "cell_type": "code",
      "metadata": {
        "id": "0yOc6fQq7R21"
      },
      "source": [
        "#data cleansing\n",
        "clean = word_tokenize(df)\n",
        "clean = [t.lower() for t in clean]\n",
        "clean = [t for t in clean if t not in stopwords.words('english')]\n",
        "clean = [t for t in clean if t.isalpha()]\n",
        "\n",
        "lemmatizer = WordNetLemmatizer()\n",
        "clean = [lemmatizer.lemmatize(t) for t in clean]"
      ],
      "execution_count": null,
      "outputs": []
    },
    {
      "cell_type": "code",
      "metadata": {
        "id": "FT6LPskD7R21"
      },
      "source": [
        "#change list to string\n",
        "def listToString(s):\n",
        "    str1 = \" \"\n",
        "    return (str1.join(s))\n",
        "\n",
        "clear = listToString(clean)\n",
        "type(clear)"
      ],
      "execution_count": null,
      "outputs": []
    },
    {
      "cell_type": "code",
      "metadata": {
        "id": "SK4eRGrE7R22"
      },
      "source": [
        "#wordcloud\n",
        "clean_wc = WordCloud(\n",
        "    background_color='white',\n",
        "    max_words=20\n",
        ")\n",
        "\n",
        "clean_wc.generate(clear)"
      ],
      "execution_count": null,
      "outputs": []
    },
    {
      "cell_type": "code",
      "metadata": {
        "id": "vc42BdkR7R23"
      },
      "source": [
        "#showing wordcloud\n",
        "plt.imshow(clean_wc, interpolation='bilinear')\n",
        "plt.axis('off')\n",
        "plt.show()"
      ],
      "execution_count": null,
      "outputs": []
    },
    {
      "cell_type": "code",
      "metadata": {
        "id": "gQetPebe7R23",
        "outputId": "a4f0f669-cc02-4581-eb19-cf9f4e7f459e"
      },
      "source": [
        "#menghitung frekuensi kemunculan kata terbanyak dalam text\n",
        "counted = Counter(clean)\n",
        "wordfreq = pd.DataFrame(counted.items(), columns=['words','frequency']).sort_values(by='frequency', ascending=False)\n",
        "wordfreq"
      ],
      "execution_count": null,
      "outputs": [
        {
          "data": {
            "text/html": [
              "<div>\n",
              "<style scoped>\n",
              "    .dataframe tbody tr th:only-of-type {\n",
              "        vertical-align: middle;\n",
              "    }\n",
              "\n",
              "    .dataframe tbody tr th {\n",
              "        vertical-align: top;\n",
              "    }\n",
              "\n",
              "    .dataframe thead th {\n",
              "        text-align: right;\n",
              "    }\n",
              "</style>\n",
              "<table border=\"1\" class=\"dataframe\">\n",
              "  <thead>\n",
              "    <tr style=\"text-align: right;\">\n",
              "      <th></th>\n",
              "      <th>words</th>\n",
              "      <th>frequency</th>\n",
              "    </tr>\n",
              "  </thead>\n",
              "  <tbody>\n",
              "    <tr>\n",
              "      <th>80</th>\n",
              "      <td>people</td>\n",
              "      <td>1130</td>\n",
              "    </tr>\n",
              "    <tr>\n",
              "      <th>250</th>\n",
              "      <td>would</td>\n",
              "      <td>1049</td>\n",
              "    </tr>\n",
              "    <tr>\n",
              "      <th>195</th>\n",
              "      <td>one</td>\n",
              "      <td>978</td>\n",
              "    </tr>\n",
              "    <tr>\n",
              "      <th>70</th>\n",
              "      <td>german</td>\n",
              "      <td>933</td>\n",
              "    </tr>\n",
              "    <tr>\n",
              "      <th>90</th>\n",
              "      <td>state</td>\n",
              "      <td>929</td>\n",
              "    </tr>\n",
              "    <tr>\n",
              "      <th>...</th>\n",
              "      <td>...</td>\n",
              "      <td>...</td>\n",
              "    </tr>\n",
              "    <tr>\n",
              "      <th>6988</th>\n",
              "      <td>descent</td>\n",
              "      <td>1</td>\n",
              "    </tr>\n",
              "    <tr>\n",
              "      <th>6985</th>\n",
              "      <td>provisional</td>\n",
              "      <td>1</td>\n",
              "    </tr>\n",
              "    <tr>\n",
              "      <th>6984</th>\n",
              "      <td>tendered</td>\n",
              "      <td>1</td>\n",
              "    </tr>\n",
              "    <tr>\n",
              "      <th>6983</th>\n",
              "      <td>brooding</td>\n",
              "      <td>1</td>\n",
              "    </tr>\n",
              "    <tr>\n",
              "      <th>10861</th>\n",
              "      <td>er</td>\n",
              "      <td>1</td>\n",
              "    </tr>\n",
              "  </tbody>\n",
              "</table>\n",
              "<p>10862 rows × 2 columns</p>\n",
              "</div>"
            ],
            "text/plain": [
              "             words  frequency\n",
              "80          people       1130\n",
              "250          would       1049\n",
              "195            one        978\n",
              "70          german        933\n",
              "90           state        929\n",
              "...            ...        ...\n",
              "6988       descent          1\n",
              "6985   provisional          1\n",
              "6984      tendered          1\n",
              "6983      brooding          1\n",
              "10861           er          1\n",
              "\n",
              "[10862 rows x 2 columns]"
            ]
          },
          "execution_count": 10,
          "metadata": {},
          "output_type": "execute_result"
        }
      ]
    },
    {
      "cell_type": "code",
      "metadata": {
        "id": "v1pGXK9e7R23",
        "outputId": "823634f3-3c2c-4c4c-d1ce-1fe9d3ff0324"
      },
      "source": [
        "#visualisasi grafik kemunculan kata terbanyak\n",
        "fig, axes = plt.subplots(figsize=(8,10))\n",
        "sns.barplot(x='frequency',y='words',data=wordfreq.head(15))"
      ],
      "execution_count": null,
      "outputs": [
        {
          "data": {
            "text/plain": [
              "<matplotlib.axes._subplots.AxesSubplot at 0x1f0799da288>"
            ]
          },
          "execution_count": 11,
          "metadata": {},
          "output_type": "execute_result"
        },
        {
          "data": {
            "image/png": "[encoded data removed]",
            "text/plain": [
              "<Figure size 576x720 with 1 Axes>"
            ]
          },
          "metadata": {
            "needs_background": "light"
          },
          "output_type": "display_data"
        }
      ]
    }
  ]
}